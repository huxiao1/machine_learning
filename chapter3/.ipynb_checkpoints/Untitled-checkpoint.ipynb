{
 "cells": [
  {
   "cell_type": "markdown",
   "id": "differential-mediterranean",
   "metadata": {},
   "source": [
    "#pass test predict\n"
   ]
  },
  {
   "cell_type": "code",
   "execution_count": 2,
   "id": "compact-arizona",
   "metadata": {},
   "outputs": [
    {
     "data": {
      "text/html": [
       "<div>\n",
       "<style scoped>\n",
       "    .dataframe tbody tr th:only-of-type {\n",
       "        vertical-align: middle;\n",
       "    }\n",
       "\n",
       "    .dataframe tbody tr th {\n",
       "        vertical-align: top;\n",
       "    }\n",
       "\n",
       "    .dataframe thead th {\n",
       "        text-align: right;\n",
       "    }\n",
       "</style>\n",
       "<table border=\"1\" class=\"dataframe\">\n",
       "  <thead>\n",
       "    <tr style=\"text-align: right;\">\n",
       "      <th></th>\n",
       "      <th>Exam1</th>\n",
       "      <th>Exam2</th>\n",
       "      <th>Pass</th>\n",
       "    </tr>\n",
       "  </thead>\n",
       "  <tbody>\n",
       "    <tr>\n",
       "      <th>0</th>\n",
       "      <td>34.623660</td>\n",
       "      <td>78.024693</td>\n",
       "      <td>0</td>\n",
       "    </tr>\n",
       "    <tr>\n",
       "      <th>1</th>\n",
       "      <td>30.286711</td>\n",
       "      <td>43.894998</td>\n",
       "      <td>0</td>\n",
       "    </tr>\n",
       "    <tr>\n",
       "      <th>2</th>\n",
       "      <td>35.847409</td>\n",
       "      <td>72.902198</td>\n",
       "      <td>0</td>\n",
       "    </tr>\n",
       "    <tr>\n",
       "      <th>3</th>\n",
       "      <td>60.182599</td>\n",
       "      <td>86.308552</td>\n",
       "      <td>1</td>\n",
       "    </tr>\n",
       "    <tr>\n",
       "      <th>4</th>\n",
       "      <td>79.032736</td>\n",
       "      <td>75.344376</td>\n",
       "      <td>1</td>\n",
       "    </tr>\n",
       "  </tbody>\n",
       "</table>\n",
       "</div>"
      ],
      "text/plain": [
       "       Exam1      Exam2  Pass\n",
       "0  34.623660  78.024693     0\n",
       "1  30.286711  43.894998     0\n",
       "2  35.847409  72.902198     0\n",
       "3  60.182599  86.308552     1\n",
       "4  79.032736  75.344376     1"
      ]
     },
     "execution_count": 2,
     "metadata": {},
     "output_type": "execute_result"
    }
   ],
   "source": [
    "import pandas as pd\n",
    "import numpy as np\n",
    "data = pd.read_csv('examdata.csv')\n",
    "data.head()"
   ]
  },
  {
   "cell_type": "code",
   "execution_count": 3,
   "id": "demanding-conspiracy",
   "metadata": {},
   "outputs": [
    {
     "data": {
      "image/png": "[encoded data removed]",
      "text/plain": [
       "<Figure size 432x288 with 1 Axes>"
      ]
     },
     "metadata": {
      "needs_background": "light"
     },
     "output_type": "display_data"
    }
   ],
   "source": [
    "#visualize data\n",
    "%matplotlib inline\n",
    "from matplotlib import pyplot as plt\n",
    "fig1 = plt.figure()\n",
    "plt.scatter(data.loc[:,'Exam1'],data.loc[:,'Exam2'])\n",
    "plt.title('Exam1-Exam2')\n",
    "plt.xlabel('Exam1')\n",
    "plt.ylabel('Exam2')\n",
    "plt.show()"
   ]
  },
  {
   "cell_type": "code",
   "execution_count": 4,
   "id": "filled-nicaragua",
   "metadata": {},
   "outputs": [
    {
     "name": "stdout",
     "output_type": "stream",
     "text": [
      "0     False\n",
      "1     False\n",
      "2     False\n",
      "3      True\n",
      "4      True\n",
      "      ...  \n",
      "95     True\n",
      "96     True\n",
      "97     True\n",
      "98     True\n",
      "99     True\n",
      "Name: Pass, Length: 100, dtype: bool\n"
     ]
    }
   ],
   "source": [
    "#add label mask 1\n",
    "mask = data.loc[:,'Pass']==1\n",
    "print(mask)"
   ]
  },
  {
   "cell_type": "code",
   "execution_count": 5,
   "id": "sonic-spine",
   "metadata": {
    "scrolled": true
   },
   "outputs": [
    {
     "data": {
      "image/png": "[encoded data removed]",
      "text/plain": [
       "<Figure size 432x288 with 1 Axes>"
      ]
     },
     "metadata": {
      "needs_background": "light"
     },
     "output_type": "display_data"
    }
   ],
   "source": [
    "#show passed data and failed data\n",
    "fig2 = plt.figure()\n",
    "passed=plt.scatter(data.loc[:,'Exam1'][mask],data.loc[:,'Exam2'][mask])\n",
    "failed=plt.scatter(data.loc[:,'Exam1'][~mask],data.loc[:,'Exam2'][~mask])\n",
    "plt.title('Exam1-Exam2')\n",
    "plt.xlabel('Exam1')\n",
    "plt.ylabel('Exam2')\n",
    "plt.legend((passed,failed),('passed','failed'))\n",
    "plt.show()"
   ]
  },
  {
   "cell_type": "code",
   "execution_count": 6,
   "id": "norwegian-central",
   "metadata": {},
   "outputs": [],
   "source": [
    "#define x,y\n",
    "x = data.drop(['Pass'],axis=1)\n",
    "y = data.loc[:,'Pass']\n",
    "x1 = data.loc[:,'Exam1']\n",
    "x2 = data.loc[:,'Exam2']"
   ]
  },
  {
   "cell_type": "code",
   "execution_count": 7,
   "id": "removable-translator",
   "metadata": {},
   "outputs": [
    {
     "name": "stdout",
     "output_type": "stream",
     "text": [
      "(100, 2) (100,)\n"
     ]
    }
   ],
   "source": [
    "#make sure the shape of x y\n",
    "print(x.shape,y.shape)"
   ]
  },
  {
   "cell_type": "markdown",
   "id": "mechanical-decline",
   "metadata": {},
   "source": []
  },
  {
   "cell_type": "code",
   "execution_count": 8,
   "id": "trained-american",
   "metadata": {},
   "outputs": [
    {
     "data": {
      "text/plain": [
       "LogisticRegression()"
      ]
     },
     "execution_count": 8,
     "metadata": {},
     "output_type": "execute_result"
    }
   ],
   "source": [
    "#train\n",
    "from sklearn.linear_model import LogisticRegression\n",
    "lr_model = LogisticRegression()\n",
    "lr_model.fit(x,y)"
   ]
  },
  {
   "cell_type": "code",
   "execution_count": 9,
   "id": "danish-schema",
   "metadata": {},
   "outputs": [
    {
     "name": "stdout",
     "output_type": "stream",
     "text": [
      "[0 0 0 1 1 0 1 0 1 1 1 0 1 1 0 1 0 0 1 1 0 1 0 0 1 1 1 1 0 0 1 1 0 0 0 0 1\n",
      " 1 0 0 1 0 1 1 0 0 1 1 1 1 1 1 1 0 0 0 1 1 1 1 1 0 0 0 0 0 1 0 1 1 0 1 1 1\n",
      " 1 1 1 1 0 1 1 1 1 0 1 1 0 1 1 0 1 1 0 1 1 1 1 1 0 1]\n",
      "0.89\n"
     ]
    }
   ],
   "source": [
    "#show the predict result and its model\n",
    "predictions = lr_model.predict(x)\n",
    "print(predictions)\n",
    "from sklearn.metrics import accuracy_score\n",
    "acc = accuracy_score(y,predictions)\n",
    "print(acc)"
   ]
  },
  {
   "cell_type": "code",
   "execution_count": 10,
   "id": "handed-liabilities",
   "metadata": {},
   "outputs": [
    {
     "name": "stdout",
     "output_type": "stream",
     "text": [
      "[1]\n"
     ]
    }
   ],
   "source": [
    "#exam1=70 exam2=65\n",
    "y_test = lr_model.predict([[70,65]])\n",
    "print(y_test)"
   ]
  },
  {
   "cell_type": "code",
   "execution_count": 11,
   "id": "cloudy-fancy",
   "metadata": {},
   "outputs": [],
   "source": [
    "#draw dicision line\n",
    "theta1 = lr_model.coef_[0][0]\n",
    "theta2 = lr_model.coef_[0][1]\n",
    "theta0 = lr_model.intercept_[0]"
   ]
  },
  {
   "cell_type": "code",
   "execution_count": 12,
   "id": "perfect-millennium",
   "metadata": {},
   "outputs": [],
   "source": [
    "x2_new = -(theta0+theta1*x1)/theta2"
   ]
  },
  {
   "cell_type": "code",
   "execution_count": 13,
   "id": "listed-dakota",
   "metadata": {},
   "outputs": [
    {
     "data": {
      "image/png": "[encoded data removed]",
      "text/plain": [
       "<Figure size 432x288 with 1 Axes>"
      ]
     },
     "metadata": {
      "needs_background": "light"
     },
     "output_type": "display_data"
    }
   ],
   "source": [
    "#show decission line 1\n",
    "fig3 = plt.figure()\n",
    "passed=plt.scatter(data.loc[:,'Exam1'][mask],data.loc[:,'Exam2'][mask])\n",
    "failed=plt.scatter(data.loc[:,'Exam1'][~mask],data.loc[:,'Exam2'][~mask])\n",
    "plt.plot(x1,x2_new)\n",
    "plt.title('Exam1-Exam2')\n",
    "plt.xlabel('Exam1')\n",
    "plt.ylabel('Exam2')\n",
    "plt.legend((passed,failed),('passed','failed'))\n",
    "plt.show()"
   ]
  },
  {
   "cell_type": "code",
   "execution_count": 31,
   "id": "collectible-sister",
   "metadata": {},
   "outputs": [
    {
     "name": "stdout",
     "output_type": "stream",
     "text": [
      "           x1         x2         x1_2         x2_2        x1_x2\n",
      "0   34.623660  78.024693  1198.797805  6087.852690  2701.500406\n",
      "1   30.286711  43.894998   917.284849  1926.770807  1329.435094\n",
      "2   35.847409  72.902198  1285.036716  5314.730478  2613.354893\n",
      "3   60.182599  86.308552  3621.945269  7449.166166  5194.273015\n",
      "4   79.032736  75.344376  6246.173368  5676.775061  5954.672216\n",
      "..        ...        ...          ...          ...          ...\n",
      "95  83.489163  48.380286  6970.440295  2340.652054  4039.229555\n",
      "96  42.261701  87.103851  1786.051355  7587.080849  3681.156888\n",
      "97  99.315009  68.775409  9863.470975  4730.056948  6830.430397\n",
      "98  55.340018  64.931938  3062.517544  4216.156574  3593.334590\n",
      "99  74.775893  89.529813  5591.434174  8015.587398  6694.671710\n",
      "\n",
      "[100 rows x 5 columns]\n"
     ]
    }
   ],
   "source": [
    "#show decission line 2\n",
    "#create new data\n",
    "x1_2 = x1*x1\n",
    "x2_2 = x2*x2\n",
    "x1_x2 = x1*x2\n",
    "x_new = {'x1':x1,'x2':x2,'x1_2':x1_2,'x2_2':x2_2,'x1_x2':x1_x2}\n",
    "x_new = pd.DataFrame(x_new)\n",
    "print(x_new)"
   ]
  },
  {
   "cell_type": "code",
   "execution_count": 32,
   "id": "dental-screening",
   "metadata": {},
   "outputs": [
    {
     "name": "stdout",
     "output_type": "stream",
     "text": [
      "1.0\n"
     ]
    }
   ],
   "source": [
    "#create new model to train\n",
    "lr_model2 = LogisticRegression()\n",
    "lr_model2.fit(x_new,y)\n",
    "#show the predict result and its model\n",
    "predictions2 = lr_model2.predict(x_new)\n",
    "acc2 = accuracy_score(y,predictions2)\n",
    "print(acc2)"
   ]
  },
  {
   "cell_type": "code",
   "execution_count": 33,
   "id": "essential-dollar",
   "metadata": {},
   "outputs": [],
   "source": [
    "x1_new = x1.sort_values()"
   ]
  },
  {
   "cell_type": "code",
   "execution_count": 34,
   "id": "further-kingdom",
   "metadata": {},
   "outputs": [
    {
     "name": "stdout",
     "output_type": "stream",
     "text": [
      "0     110.169493\n",
      "1     130.914667\n",
      "2     105.103860\n",
      "3      55.211609\n",
      "4      44.316318\n",
      "         ...    \n",
      "95     42.795557\n",
      "96     83.832246\n",
      "97     38.955634\n",
      "98     60.145181\n",
      "99     46.038874\n",
      "Name: Exam1, Length: 100, dtype: float64\n"
     ]
    }
   ],
   "source": [
    "#draw dicision line\n",
    "#t0+t1x1+t2x2+t3x1^2+t4x2^2+t5x1x2\n",
    "theta1 = lr_model2.coef_[0][0]\n",
    "theta2 = lr_model2.coef_[0][1]\n",
    "theta3 = lr_model2.coef_[0][2]\n",
    "theta4 = lr_model2.coef_[0][3]\n",
    "theta5 = lr_model2.coef_[0][4]\n",
    "theta0 = lr_model2.intercept_[0]\n",
    "a = theta4\n",
    "b = theta5*x1_new+theta2\n",
    "c = theta0+theta1*x1_new+theta3*x1_new*x1_new\n",
    "x2_new_boundry = (-b+np.sqrt(b*b-4*a*c))/(2*a)\n",
    "print(x2_new_boundry)"
   ]
  },
  {
   "cell_type": "code",
   "execution_count": 36,
   "id": "lesbian-suffering",
   "metadata": {},
   "outputs": [
    {
     "data": {
      "image/png": "[encoded data removed]",
      "text/plain": [
       "<Figure size 432x288 with 1 Axes>"
      ]
     },
     "metadata": {
      "needs_background": "light"
     },
     "output_type": "display_data"
    }
   ],
   "source": [
    "#show decission line 1\n",
    "fig4 = plt.figure()\n",
    "passed=plt.scatter(data.loc[:,'Exam1'][mask],data.loc[:,'Exam2'][mask])\n",
    "failed=plt.scatter(data.loc[:,'Exam1'][~mask],data.loc[:,'Exam2'][~mask])\n",
    "plt.plot(x1_new,x2_new_boundry)\n",
    "plt.title('Exam1-Exam2')\n",
    "plt.xlabel('Exam1')\n",
    "plt.ylabel('Exam2')\n",
    "plt.legend((passed,failed),('passed','failed'))\n",
    "plt.show()"
   ]
  },
  {
   "cell_type": "code",
   "execution_count": null,
   "id": "dated-progressive",
   "metadata": {},
   "outputs": [],
   "source": []
  }
 ],
 "metadata": {
  "kernelspec": {
   "display_name": "Python 3",
   "language": "python",
   "name": "python3"
  },
  "language_info": {
   "codemirror_mode": {
    "name": "ipython",
    "version": 3
   },
   "file_extension": ".py",
   "mimetype": "text/x-python",
   "name": "python",
   "nbconvert_exporter": "python",
   "pygments_lexer": "ipython3",
   "version": "3.7.9"
  }
 },
 "nbformat": 4,
 "nbformat_minor": 5
}
